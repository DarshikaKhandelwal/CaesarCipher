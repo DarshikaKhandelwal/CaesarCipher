{
  "nbformat": 4,
  "nbformat_minor": 0,
  "metadata": {
    "colab": {
      "provenance": []
    },
    "kernelspec": {
      "name": "python3",
      "display_name": "Python 3"
    },
    "language_info": {
      "name": "python"
    }
  },
  "cells": [
    {
      "cell_type": "code",
      "source": [
        "alphabet = ['a','b','c','d','e','f','g','h','i','j','k','l','m','n',\n",
        "            'o','p','q','r','s','t','u','v','w','x','y','z','a','b','c','d','e','f','g','h','i',\n",
        "            'j','k','l','m','n','o','p','q','r','s','t','u','v','w','x','y','z']\n",
        "\n",
        "def caesar(start_text, shift_amt, cipher_direction):\n",
        "  end_text = \"\"\n",
        "  if cipher_direction == \"decode\":\n",
        "      shift_amt *= -1\n",
        "  for char in start_text:\n",
        "    if char in alphabet:\n",
        "      position = alphabet.index(char)\n",
        "      new_position = position + shift_amt\n",
        "      end_text += alphabet[new_position]\n",
        "    else:\n",
        "      end_text += char\n",
        "  print(f\"the {cipher_direction}d text is {end_text}\")\n",
        "\n",
        "should_continue = True\n",
        "\n",
        "while should_continue:\n",
        "  direction = input(\"Type 'encode' to encrypt and 'decode' to decrypt:\\n\").lower()\n",
        "  text = input(\"Type your text:\\n\").lower()\n",
        "  shift = int(input(\"Type the Shift Number:\\n\"))\n",
        "  shift = shift % 26\n",
        "  caesar(start_text = text, shift_amt = shift, cipher_direction = direction)\n",
        "  result = input(\"Type 'yes' to continue, 'no' to exit\\n\")\n",
        "  if(result == \"yes\"):\n",
        "    should_continue = True\n",
        "  else:\n",
        "    print(\"Goodbye!\")\n",
        "    should_continue = False"
      ],
      "metadata": {
        "colab": {
          "base_uri": "https://localhost:8080/"
        },
        "id": "Z14p_enY8CD0",
        "outputId": "99280979-fb01-45dc-d951-c7f3977a5d46"
      },
      "execution_count": null,
      "outputs": [
        {
          "output_type": "stream",
          "name": "stdout",
          "text": [
            "Type 'encode' to encrypt and 'decode' to decrypt:\n",
            "encode\n",
            "Type your text:\n",
            "hello\n",
            "Type the Shift Number:\n",
            "5\n",
            "the encoded text is mjqqt\n",
            "Type 'yes' to continue, 'no' to exit\n",
            "yes\n",
            "Type 'encode' to encrypt and 'decode' to decrypt:\n",
            "decode\n",
            "Type your text:\n",
            "mjqqt\n",
            "Type the Shift Number:\n",
            "5\n",
            "the decoded text is hello\n",
            "Type 'yes' to continue, 'no' to exit\n",
            "no\n",
            "Goodbye!\n"
          ]
        }
      ]
    }
  ]
}